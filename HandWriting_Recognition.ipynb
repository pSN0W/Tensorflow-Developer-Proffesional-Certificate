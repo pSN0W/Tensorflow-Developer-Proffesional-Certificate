{
  "nbformat": 4,
  "nbformat_minor": 0,
  "metadata": {
    "colab": {
      "name": "HandWriting_Recognition.ipynb",
      "provenance": [],
      "collapsed_sections": [],
      "include_colab_link": true
    },
    "kernelspec": {
      "display_name": "Python 3",
      "name": "python3"
    }
  },
  "cells": [
    {
      "cell_type": "markdown",
      "metadata": {
        "id": "view-in-github",
        "colab_type": "text"
      },
      "source": [
        "<a href=\"https://colab.research.google.com/github/pSN0W/Tensorflow-Developer-Proffesional-Certificate/blob/main/HandWriting_Recognition.ipynb\" target=\"_parent\"><img src=\"https://colab.research.google.com/assets/colab-badge.svg\" alt=\"Open In Colab\"/></a>"
      ]
    },
    {
      "cell_type": "code",
      "metadata": {
        "id": "zX4Kg8DUTKWO"
      },
      "source": [
        "#@title Licensed under the Apache License, Version 2.0 (the \"License\");\n",
        "# you may not use this file except in compliance with the License.\n",
        "# You may obtain a copy of the License at\n",
        "#\n",
        "# https://www.apache.org/licenses/LICENSE-2.0\n",
        "#\n",
        "# Unless required by applicable law or agreed to in writing, software\n",
        "# distributed under the License is distributed on an \"AS IS\" BASIS,\n",
        "# WITHOUT WARRANTIES OR CONDITIONS OF ANY KIND, either express or implied.\n",
        "# See the License for the specific language governing permissions and\n",
        "# limitations under the License."
      ],
      "execution_count": null,
      "outputs": []
    },
    {
      "cell_type": "markdown",
      "metadata": {
        "id": "tOoyQ70H00_s"
      },
      "source": [
        "## Exercise 2\n",
        "In the course you learned how to do classification using Fashion MNIST, a data set containing items of clothing. There's another, similar dataset called MNIST which has items of handwriting -- the digits 0 through 9.\n",
        "\n",
        "Write an MNIST classifier that trains to 99% accuracy or above, and does it without a fixed number of epochs -- i.e. you should stop training once you reach that level of accuracy.\n",
        "\n",
        "Some notes:\n",
        "1. It should succeed in less than 10 epochs, so it is okay to change epochs to 10, but nothing larger\n",
        "2. When it reaches 99% or greater it should print out the string \"Reached 99% accuracy so cancelling training!\"\n",
        "3. If you add any additional variables, make sure you use the same names as the ones used in the class\n",
        "\n",
        "I've started the code for you below -- how would you finish it? "
      ]
    },
    {
      "cell_type": "code",
      "metadata": {
        "id": "9rvXQGAA0ssC",
        "colab": {
          "base_uri": "https://localhost:8080/"
        },
        "outputId": "5b3d2d05-c735-4add-c459-171c66eb045a"
      },
      "source": [
        "# YOUR CODE SHOULD START HERE\n",
        "# YOUR CODE SHOULD END HERE\n",
        "import tensorflow as tf\n",
        "mnist = tf.keras.datasets.mnist\n",
        "\n",
        "(x_train, y_train),(x_test, y_test) = mnist.load_data()\n",
        "\n",
        "\n",
        "class myCallback(tf.keras.callbacks.Callback):\n",
        "    def on_epoch_end(self,epoch,logs={}):\n",
        "      if(logs.get('accuracy')>0.99):\n",
        "        print(\"\\n Reached 99% accuracy so cancelling training!\")\n",
        "        self.model.stop_training = True\n",
        "\n",
        "callbacks = myCallback()\n",
        "\n",
        "model = tf.keras.models.Sequential([\n",
        "                                    tf.keras.layers.Flatten(),\n",
        "                                    tf.keras.layers.Dense(64,activation=tf.nn.relu),\n",
        "                                    tf.keras.layers.Dense(32,activation=tf.nn.relu),\n",
        "                                    tf.keras.layers.Dense(16,activation=tf.nn.relu),\n",
        "                                    tf.keras.layers.Dense(8,activation=tf.nn.relu),\n",
        "                                    tf.keras.layers.Dense(10,activation=tf.nn.softmax)\n",
        "])\n",
        "\n",
        "model.compile(optimizer='adam',\n",
        "              loss='sparse_categorical_crossentropy',\n",
        "              metrics=['accuracy'])\n",
        "model.fit(x_train,y_train,callbacks=[callbacks],epochs=50)\n",
        "model.evaluate(x_test,y_test)"
      ],
      "execution_count": 20,
      "outputs": [
        {
          "output_type": "stream",
          "text": [
            "Epoch 1/50\n",
            "1875/1875 [==============================] - 3s 1ms/step - loss: 1.5579 - accuracy: 0.5482\n",
            "Epoch 2/50\n",
            "1875/1875 [==============================] - 3s 1ms/step - loss: 0.5119 - accuracy: 0.8726\n",
            "Epoch 3/50\n",
            "1875/1875 [==============================] - 3s 1ms/step - loss: 0.3099 - accuracy: 0.9214\n",
            "Epoch 4/50\n",
            "1875/1875 [==============================] - 3s 1ms/step - loss: 0.2205 - accuracy: 0.9421\n",
            "Epoch 5/50\n",
            "1875/1875 [==============================] - 3s 1ms/step - loss: 0.1785 - accuracy: 0.9523\n",
            "Epoch 6/50\n",
            "1875/1875 [==============================] - 3s 1ms/step - loss: 0.1445 - accuracy: 0.9603\n",
            "Epoch 7/50\n",
            "1875/1875 [==============================] - 3s 1ms/step - loss: 0.1281 - accuracy: 0.9651\n",
            "Epoch 8/50\n",
            "1875/1875 [==============================] - 2s 1ms/step - loss: 0.1125 - accuracy: 0.9690\n",
            "Epoch 9/50\n",
            "1875/1875 [==============================] - 3s 1ms/step - loss: 0.1026 - accuracy: 0.9716\n",
            "Epoch 10/50\n",
            "1875/1875 [==============================] - 3s 1ms/step - loss: 0.0885 - accuracy: 0.9756\n",
            "Epoch 11/50\n",
            "1875/1875 [==============================] - 3s 1ms/step - loss: 0.0818 - accuracy: 0.9771\n",
            "Epoch 12/50\n",
            "1875/1875 [==============================] - 3s 1ms/step - loss: 0.0761 - accuracy: 0.9787\n",
            "Epoch 13/50\n",
            "1875/1875 [==============================] - 3s 1ms/step - loss: 0.0722 - accuracy: 0.9798\n",
            "Epoch 14/50\n",
            "1875/1875 [==============================] - 3s 2ms/step - loss: 0.0648 - accuracy: 0.9816\n",
            "Epoch 15/50\n",
            "1875/1875 [==============================] - 3s 1ms/step - loss: 0.0615 - accuracy: 0.9826\n",
            "Epoch 16/50\n",
            "1875/1875 [==============================] - 3s 1ms/step - loss: 0.0581 - accuracy: 0.9836\n",
            "Epoch 17/50\n",
            "1875/1875 [==============================] - 3s 1ms/step - loss: 0.0559 - accuracy: 0.9846\n",
            "Epoch 18/50\n",
            "1875/1875 [==============================] - 3s 2ms/step - loss: 0.0501 - accuracy: 0.9861\n",
            "Epoch 19/50\n",
            "1875/1875 [==============================] - 3s 2ms/step - loss: 0.0475 - accuracy: 0.9861\n",
            "Epoch 20/50\n",
            "1875/1875 [==============================] - 3s 1ms/step - loss: 0.0436 - accuracy: 0.9880\n",
            "Epoch 21/50\n",
            "1875/1875 [==============================] - 3s 1ms/step - loss: 0.0461 - accuracy: 0.9870\n",
            "Epoch 22/50\n",
            "1875/1875 [==============================] - 3s 1ms/step - loss: 0.0437 - accuracy: 0.9880\n",
            "Epoch 23/50\n",
            "1875/1875 [==============================] - 3s 1ms/step - loss: 0.0395 - accuracy: 0.9889\n",
            "Epoch 24/50\n",
            "1875/1875 [==============================] - 3s 1ms/step - loss: 0.0444 - accuracy: 0.9882\n",
            "Epoch 25/50\n",
            "1875/1875 [==============================] - 3s 2ms/step - loss: 0.0375 - accuracy: 0.9896\n",
            "Epoch 26/50\n",
            "1875/1875 [==============================] - 3s 1ms/step - loss: 0.0386 - accuracy: 0.9893\n",
            "Epoch 27/50\n",
            "1875/1875 [==============================] - 3s 1ms/step - loss: 0.0352 - accuracy: 0.9899\n",
            "Epoch 28/50\n",
            "1875/1875 [==============================] - 3s 1ms/step - loss: 0.0326 - accuracy: 0.9909\n",
            "\n",
            " Reached 99% accuracy so cancelling training!\n",
            "313/313 [==============================] - 0s 860us/step - loss: 0.1847 - accuracy: 0.9694\n"
          ],
          "name": "stdout"
        },
        {
          "output_type": "execute_result",
          "data": {
            "text/plain": [
              "[0.1846717745065689, 0.9693999886512756]"
            ]
          },
          "metadata": {
            "tags": []
          },
          "execution_count": 20
        }
      ]
    }
  ]
}