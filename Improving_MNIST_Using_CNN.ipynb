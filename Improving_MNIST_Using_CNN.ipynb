{
  "nbformat": 4,
  "nbformat_minor": 0,
  "metadata": {
    "colab": {
      "name": "Improving-MNIST-Using-CNN.ipynb",
      "provenance": [],
      "collapsed_sections": [],
      "include_colab_link": true
    },
    "kernelspec": {
      "display_name": "Python 3",
      "name": "python3"
    }
  },
  "cells": [
    {
      "cell_type": "markdown",
      "metadata": {
        "id": "view-in-github",
        "colab_type": "text"
      },
      "source": [
        "<a href=\"https://colab.research.google.com/github/pSN0W/Tensorflow-Developer-Proffesional-Certificate/blob/main/Improving_MNIST_Using_CNN.ipynb\" target=\"_parent\"><img src=\"https://colab.research.google.com/assets/colab-badge.svg\" alt=\"Open In Colab\"/></a>"
      ]
    },
    {
      "cell_type": "code",
      "metadata": {
        "id": "zX4Kg8DUTKWO"
      },
      "source": [
        "#@title Licensed under the Apache License, Version 2.0 (the \"License\");\n",
        "# you may not use this file except in compliance with the License.\n",
        "# You may obtain a copy of the License at\n",
        "#\n",
        "# https://www.apache.org/licenses/LICENSE-2.0\n",
        "#\n",
        "# Unless required by applicable law or agreed to in writing, software\n",
        "# distributed under the License is distributed on an \"AS IS\" BASIS,\n",
        "# WITHOUT WARRANTIES OR CONDITIONS OF ANY KIND, either express or implied.\n",
        "# See the License for the specific language governing permissions and\n",
        "# limitations under the License."
      ],
      "execution_count": null,
      "outputs": []
    },
    {
      "cell_type": "markdown",
      "metadata": {
        "id": "iQjHqsmTAVLU"
      },
      "source": [
        "## Exercise 3\n",
        "In the videos you looked at how you would improve Fashion MNIST using Convolutions. For your exercise see if you can improve MNIST to 99.8% accuracy or more using only a single convolutional layer and a single MaxPooling 2D. You should stop training once the accuracy goes above this amount. It should happen in less than 20 epochs, so it's ok to hard code the number of epochs for training, but your training must end once it hits the above metric. If it doesn't, then you'll need to redesign your layers.\n",
        "\n",
        "I've started the code for you -- you need to finish it!\n",
        "\n",
        "When 99.8% accuracy has been hit, you should print out the string \"Reached 99.8% accuracy so cancelling training!\"\n"
      ]
    },
    {
      "cell_type": "code",
      "metadata": {
        "id": "sfQRyaJWAIdg",
        "colab": {
          "base_uri": "https://localhost:8080/"
        },
        "outputId": "a09e64d5-d5db-4603-a4a5-3af40b86746b"
      },
      "source": [
        "import tensorflow as tf\n",
        "\n",
        "\n",
        "mnist = tf.keras.datasets.mnist\n",
        "(training_images, training_labels), (test_images, test_labels) = mnist.load_data()\n",
        "\n",
        "print(training_images.shape)\n",
        "print(test_images.shape)\n",
        "\n",
        "training_images = training_images.reshape(60000,28,28,1)\n",
        "test_images = test_images.reshape(10000,28,28,1)\n",
        "training_images = training_images/255.0\n",
        "test_images = test_images/255.0\n",
        "\n",
        "class myCallback(tf.keras.callbacks.Callback):\n",
        "  def on_epoch_end(self,epoch,logs={}):\n",
        "    if logs.get('accuracy')>0.988:\n",
        "      print(\"/nReached 99.8% accuracy so cancelling training!\")\n",
        "      self.model.stop_training = True\n",
        "\n",
        "callbacks = myCallback()\n",
        "\n",
        "\n",
        "model = tf.keras.models.Sequential([\n",
        "    tf.keras.layers.Conv2D(32,(3,3),activation=tf.nn.relu),\n",
        "    tf.keras.layers.MaxPool2D(2,2),\n",
        "    tf.keras.layers.Conv2D(64,(3,3),activation=tf.nn.relu),\n",
        "    tf.keras.layers.MaxPool2D(2,2),\n",
        "    tf.keras.layers.Flatten(),\n",
        "    tf.keras.layers.Dense(128,activation=tf.nn.relu),\n",
        "    tf.keras.layers.Dense(32,activation=tf.nn.relu),\n",
        "    tf.keras.layers.Dense(8,activation=tf.nn.relu),\n",
        "    tf.keras.layers.Dense(10,activation=tf.nn.softmax)\n",
        "])\n",
        "\n",
        "model.compile(optimizer='adam',loss='sparse_categorical_crossentropy',metrics=['accuracy'])\n",
        "model.fit(training_images,training_labels,epochs=20,callbacks=[callbacks])\n",
        "model.summary()\n",
        "model.evaluate(test_images,test_labels)\n"
      ],
      "execution_count": 3,
      "outputs": [
        {
          "output_type": "stream",
          "text": [
            "(60000, 28, 28)\n",
            "(10000, 28, 28)\n",
            "Epoch 1/20\n",
            "1875/1875 [==============================] - 57s 30ms/step - loss: 0.1993 - accuracy: 0.9386\n",
            "Epoch 2/20\n",
            "1875/1875 [==============================] - 56s 30ms/step - loss: 0.0538 - accuracy: 0.9843\n",
            "Epoch 3/20\n",
            "1875/1875 [==============================] - 56s 30ms/step - loss: 0.0370 - accuracy: 0.9890\n",
            "/nReached 99.8% accuracy so cancelling training!\n",
            "Model: \"sequential_2\"\n",
            "_________________________________________________________________\n",
            "Layer (type)                 Output Shape              Param #   \n",
            "=================================================================\n",
            "conv2d (Conv2D)              (32, 26, 26, 32)          320       \n",
            "_________________________________________________________________\n",
            "max_pooling2d (MaxPooling2D) (32, 13, 13, 32)          0         \n",
            "_________________________________________________________________\n",
            "conv2d_1 (Conv2D)            (32, 11, 11, 64)          18496     \n",
            "_________________________________________________________________\n",
            "max_pooling2d_1 (MaxPooling2 (32, 5, 5, 64)            0         \n",
            "_________________________________________________________________\n",
            "flatten (Flatten)            (32, 1600)                0         \n",
            "_________________________________________________________________\n",
            "dense (Dense)                (32, 128)                 204928    \n",
            "_________________________________________________________________\n",
            "dense_1 (Dense)              (32, 32)                  4128      \n",
            "_________________________________________________________________\n",
            "dense_2 (Dense)              (32, 8)                   264       \n",
            "_________________________________________________________________\n",
            "dense_3 (Dense)              (32, 10)                  90        \n",
            "=================================================================\n",
            "Total params: 228,226\n",
            "Trainable params: 228,226\n",
            "Non-trainable params: 0\n",
            "_________________________________________________________________\n",
            "313/313 [==============================] - 3s 9ms/step - loss: 0.0406 - accuracy: 0.9880\n"
          ],
          "name": "stdout"
        },
        {
          "output_type": "execute_result",
          "data": {
            "text/plain": [
              "[0.040550265461206436, 0.9879999756813049]"
            ]
          },
          "metadata": {
            "tags": []
          },
          "execution_count": 3
        }
      ]
    }
  ]
}